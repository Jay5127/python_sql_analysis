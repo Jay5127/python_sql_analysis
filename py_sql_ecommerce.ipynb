{
 "cells": [
  {
   "cell_type": "code",
   "execution_count": null,
   "id": "6bd81c87-d51a-43e2-b5fb-04cdca6de719",
   "metadata": {},
   "outputs": [],
   "source": []
  },
  {
   "cell_type": "code",
   "execution_count": null,
   "id": "6ac65441-951a-4c24-b8b6-1c642b8d67b1",
   "metadata": {},
   "outputs": [],
   "source": []
  },
  {
   "cell_type": "code",
   "execution_count": 1,
   "id": "461ffd91-5366-4415-958b-fe926eab8f1c",
   "metadata": {},
   "outputs": [],
   "source": [
    "import pandas as pd\n",
    "import mysql.connector\n",
    "import os\n",
    "\n",
    "# List of CSV files and their corresponding table names\n",
    "csv_files = [\n",
    "    ('customers.csv', 'customers'),\n",
    "    ('orders.csv', 'orders'),\n",
    "    ('sellers.csv', 'sellers'),\n",
    "    ('products.csv', 'products'),\n",
    "    ('geolocation.csv', 'geolocation'),\n",
    "    ('payments.csv', 'payments'),\n",
    "    ('order_items.csv','order_items')# Added payments.csv for specific handling\n",
    "]\n",
    "\n",
    "# Connect to the MySQL database\n",
    "conn = mysql.connector.connect(\n",
    "    host='localhost',\n",
    "    user='root',\n",
    "    password='password',\n",
    "    database='db_name'\n",
    ")\n",
    "cursor = conn.cursor()\n",
    "\n",
    "# Folder containing the CSV files\n",
    "folder_path = 'C:/Users/Jay/OneDrive/Desktop/Python SQL'\n",
    "\n",
    "def get_sql_type(dtype):\n",
    "    if pd.api.types.is_integer_dtype(dtype):\n",
    "        return 'INT'\n",
    "    elif pd.api.types.is_float_dtype(dtype):\n",
    "        return 'FLOAT'\n",
    "    elif pd.api.types.is_bool_dtype(dtype):\n",
    "        return 'BOOLEAN'\n",
    "    elif pd.api.types.is_datetime64_any_dtype(dtype):\n",
    "        return 'DATETIME'\n",
    "    else:\n",
    "        return 'TEXT'\n",
    "\n",
    "for csv_file, table_name in csv_files:\n",
    "    file_path = os.path.join(folder_path, csv_file)\n",
    "    \n",
    "    # Read the CSV file into a pandas DataFrame\n",
    "    df = pd.read_csv(file_path)\n",
    "    \n",
    "    # Replace NaN with None to handle SQL NULL\n",
    "    df = df.where(pd.notnull(df), None)\n",
    "    \n",
    "    # Debugging: Check for NaN values\n",
    "    print(f\"Processing {csv_file}\")\n",
    "    print(f\"NaN values before replacement:\\n{df.isnull().sum()}\\n\")\n",
    "\n",
    "    # Clean column names\n",
    "    df.columns = [col.replace(' ', '_').replace('-', '_').replace('.', '_') for col in df.columns]\n",
    "\n",
    "    # Generate the CREATE TABLE statement with appropriate data types\n",
    "    columns = ', '.join([f'`{col}` {get_sql_type(df[col].dtype)}' for col in df.columns])\n",
    "    create_table_query = f'CREATE TABLE IF NOT EXISTS `{table_name}` ({columns})'\n",
    "    cursor.execute(create_table_query)\n",
    "\n",
    "    # Insert DataFrame data into the MySQL table\n",
    "    for _, row in df.iterrows():\n",
    "        # Convert row to tuple and handle NaN/None explicitly\n",
    "        values = tuple(None if pd.isna(x) else x for x in row)\n",
    "        sql = f\"INSERT INTO `{table_name}` ({', '.join(['`' + col + '`' for col in df.columns])}) VALUES ({', '.join(['%s'] * len(row))})\"\n",
    "        cursor.execute(sql, values)\n",
    "\n",
    "    # Commit the transaction for the current CSV file\n",
    "    conn.commit()\n",
    "\n",
    "# Close the connection\n",
    "conn.close()"
   ]
  },
  {
   "cell_type": "code",
   "execution_count": 2,
   "id": "c7ce83f9-5540-4b4e-aa23-18602654fd16",
   "metadata": {},
   "outputs": [],
   "source": [
    "import mysql.connector\n",
    "import pandas as pd\n",
    "import numpy as np\n",
    "import matplotlib.pyplot as plt\n",
    "import seaborn as sns"
   ]
  },
  {
   "cell_type": "code",
   "execution_count": 3,
   "id": "e83ce35c-ed09-4d3f-9e84-a15042f2a479",
   "metadata": {},
   "outputs": [],
   "source": [
    "db = mysql.connector.connect(username = 'root',\n",
    "                            password = 'Mysql@123',\n",
    "                            host = 'localhost',\n",
    "                            database = 'ecommerce')\n",
    "\n",
    "cur = db.cursor()"
   ]
  },
  {
   "cell_type": "markdown",
   "id": "b2058ab1-734e-4a2e-9b90-ed5f30b01e7d",
   "metadata": {},
   "source": [
    "# 1.List all unique cities where customers are located"
   ]
  },
  {
   "cell_type": "code",
   "execution_count": 4,
   "id": "300b3d60-4222-4e45-b1a3-cf3ecdd49f0b",
   "metadata": {},
   "outputs": [
    {
     "data": {
      "text/html": [
       "<div>\n",
       "<style scoped>\n",
       "    .dataframe tbody tr th:only-of-type {\n",
       "        vertical-align: middle;\n",
       "    }\n",
       "\n",
       "    .dataframe tbody tr th {\n",
       "        vertical-align: top;\n",
       "    }\n",
       "\n",
       "    .dataframe thead th {\n",
       "        text-align: right;\n",
       "    }\n",
       "</style>\n",
       "<table border=\"1\" class=\"dataframe\">\n",
       "  <thead>\n",
       "    <tr style=\"text-align: right;\">\n",
       "      <th></th>\n",
       "      <th>City</th>\n",
       "    </tr>\n",
       "  </thead>\n",
       "  <tbody>\n",
       "    <tr>\n",
       "      <th>0</th>\n",
       "      <td>franca</td>\n",
       "    </tr>\n",
       "    <tr>\n",
       "      <th>1</th>\n",
       "      <td>sao bernardo do campo</td>\n",
       "    </tr>\n",
       "    <tr>\n",
       "      <th>2</th>\n",
       "      <td>sao paulo</td>\n",
       "    </tr>\n",
       "    <tr>\n",
       "      <th>3</th>\n",
       "      <td>mogi das cruzes</td>\n",
       "    </tr>\n",
       "    <tr>\n",
       "      <th>4</th>\n",
       "      <td>campinas</td>\n",
       "    </tr>\n",
       "  </tbody>\n",
       "</table>\n",
       "</div>"
      ],
      "text/plain": [
       "                    City\n",
       "0                 franca\n",
       "1  sao bernardo do campo\n",
       "2              sao paulo\n",
       "3        mogi das cruzes\n",
       "4               campinas"
      ]
     },
     "execution_count": 4,
     "metadata": {},
     "output_type": "execute_result"
    }
   ],
   "source": [
    "query = '''select distinct customer_city from customers'''\n",
    "\n",
    "cur.execute(query)\n",
    "\n",
    "data = cur.fetchall()\n",
    "\n",
    "df = pd.DataFrame(data , columns = ['City'])\n",
    "df.head()"
   ]
  },
  {
   "cell_type": "code",
   "execution_count": null,
   "id": "cd5c0ba5-84d3-4f3c-aa8a-6d5bf1239fc7",
   "metadata": {},
   "outputs": [],
   "source": []
  },
  {
   "cell_type": "markdown",
   "id": "c4cdef60-3ba0-4fdb-bfbb-5e1696e546bd",
   "metadata": {},
   "source": [
    "# 2. Count the number of orders placed in 2017."
   ]
  },
  {
   "cell_type": "code",
   "execution_count": 5,
   "id": "f79d5c3c-3848-4212-88a9-9d1f6da46692",
   "metadata": {},
   "outputs": [
    {
     "name": "stdout",
     "output_type": "stream",
     "text": [
      "The total order purchased in the year 2017 is 45101\n"
     ]
    }
   ],
   "source": [
    "query = '''select count(order_id) from orders where order_purchase_timestamp = 2017'''\n",
    "\n",
    "cur.execute(query)\n",
    "\n",
    "data = cur.fetchall()\n",
    "print(f'The total order purchased in the year 2017 is {data[0][0]}')"
   ]
  },
  {
   "cell_type": "code",
   "execution_count": null,
   "id": "fbc7cb33-bac5-4dc5-b8c6-a81a9ee48fa9",
   "metadata": {},
   "outputs": [],
   "source": []
  },
  {
   "cell_type": "markdown",
   "id": "ea7e3e3b-b1ad-4087-b523-96bd20ce8fd7",
   "metadata": {},
   "source": [
    "# 3. Find the total sales per category."
   ]
  },
  {
   "cell_type": "code",
   "execution_count": 6,
   "id": "739e3cd5-d841-49e2-90d8-c3153163dcab",
   "metadata": {},
   "outputs": [
    {
     "data": {
      "text/plain": [
       "[('PERFUMERY', 506738.66),\n",
       " ('FURNITURE DECORATION', 1430176.39),\n",
       " ('TELEPHONY', 486882.05),\n",
       " ('BED TABLE BATH', 1712553.67),\n",
       " ('AUTOMOTIVE', 852294.33),\n",
       " ('COMPUTER ACCESSORIES', 1585330.45),\n",
       " ('HOUSEWARES', 1094758.13),\n",
       " ('BABIES', 539845.66),\n",
       " ('TOYS', 619037.69),\n",
       " ('FURNITURE OFFICE', 646826.49),\n",
       " ('COOL STUFF', 779698.0),\n",
       " ('HEALTH BEAUTY', 1657373.12),\n",
       " ('PET SHOP', 311268.97),\n",
       " ('GENERAL INTEREST BOOKS', 64694.76),\n",
       " ('STATIONARY STORE', 317440.07),\n",
       " ('WATCHES PRESENT', 1429216.68),\n",
       " ('PCS', 279121.55),\n",
       " ('CLIMATIZATION', 91170.66),\n",
       " ('CONSTRUCTION TOOLS CONSTRUCTION', 241475.63),\n",
       " ('SPORT LEISURE', 1392127.56),\n",
       " ('BAGS ACCESSORIES', 187151.29),\n",
       " ('ELECTRONICS', 259857.1),\n",
       " ('CASA CONSTRUCAO', 136645.29),\n",
       " ('GAMES CONSOLES', 195480.38),\n",
       " ('FASHION BAGS AND ACCESSORIES', 218158.28),\n",
       " ('HOME APPLIANCES', 95532.27),\n",
       " ('GARDEN TOOLS', 838280.75),\n",
       " ('AGRO INDUSTRIA E COMERCIO', 118730.61),\n",
       " (None, 252801.71),\n",
       " ('AUDIO', 60324.62),\n",
       " ('TECHNICAL BOOKS', 24915.44),\n",
       " ('CONSTRUCTION TOOLS GARDEN', 42394.41),\n",
       " ('MARKET PLACE', 45335.92),\n",
       " ('MUSICAL INSTRUMENTS', 233074.12),\n",
       " ('DRINK FOODS', 27289.73),\n",
       " ('SIGNALIZATION AND SAFETY', 68488.05),\n",
       " ('FURNITURE KITCHEN SERVICE AREA DINNER AND GARDEN', 74660.98),\n",
       " ('SONG', 6901.43),\n",
       " ('HOUSE PASTALS OVEN AND CAFE', 51229.32),\n",
       " ('FIXED TELEPHONY', 207010.26),\n",
       " ('ROOM FURNITURE', 136138.77),\n",
       " ('CONSTRUCTION TOOLS TOOLS', 21069.07),\n",
       " ('HOUSE COMFORT', 84329.06),\n",
       " ('INDUSTRY COMMERCE AND BUSINESS', 56745.76),\n",
       " ('CONSTRUCTION TOOLS ILLUMINATION', 72712.48),\n",
       " ('ELECTRICES 2', 124563.46),\n",
       " ('FASHION CALCADOS', 32422.74),\n",
       " ('FASHION UNDERWEAR AND BEACH FASHION', 12714.54),\n",
       " ('ELECTROSTILE', 225584.38),\n",
       " ('FOODS', 46428.67),\n",
       " ('IMAGE IMPORT TABLETS', 10042.93),\n",
       " ('ART', 30992.93),\n",
       " ('DRINKS', 71429.65),\n",
       " ('ARTS AND CRAFTS', 2326.17),\n",
       " (\"FASHION WOMEN'S CLOTHING\", 5109.62),\n",
       " ('FLOWERS', 2213.01),\n",
       " (\"FASHION MEN'S CLOTHING\", 17290.98),\n",
       " ('FASHION SPORT', 3645.92),\n",
       " ('CONSTRUCTION SECURITY TOOLS', 65691.03),\n",
       " ('CHRISTMAS ARTICLES', 18994.77),\n",
       " ('FURNITURE', 31598.94),\n",
       " ('IMPORTED BOOKS', 6701.89),\n",
       " ('CINE PHOTO', 9530.32),\n",
       " ('BLU RAY DVDS', 7935.28),\n",
       " ('PARTY ARTICLES', 5966.31),\n",
       " ('HYGIENE DIAPERS', 4221.25),\n",
       " ('HOUSE COMFORT 2', 1710.54),\n",
       " ('CITTE AND UPHACK FURNITURE', 5998.54),\n",
       " ('KITCHEN PORTABLE AND FOOD COACH', 4335.65),\n",
       " ('CDS MUSIC DVDS', 1199.43),\n",
       " ('LA CUISINE', 2913.53),\n",
       " (\"FASHION CHILDREN'S CLOTHING\", 785.67),\n",
       " ('PC GAMER', 2174.43),\n",
       " ('INSURANCE AND SERVICES', 324.51)]"
      ]
     },
     "execution_count": 6,
     "metadata": {},
     "output_type": "execute_result"
    }
   ],
   "source": [
    "query = '''select UPPER(products.product_category) category,\n",
    "        round(sum(payments.payment_value),2)\n",
    "        from products join order_items\n",
    "        on products.product_id = order_items.product_id\n",
    "        join payments on \n",
    "        payments.order_id = order_items.order_id\n",
    "        group by category'''\n",
    "\n",
    "cur.execute(query)\n",
    "data = cur.fetchall()\n",
    "data"
   ]
  },
  {
   "cell_type": "code",
   "execution_count": 7,
   "id": "56014184-79ec-47b8-b942-6a15fd157224",
   "metadata": {},
   "outputs": [
    {
     "data": {
      "text/html": [
       "<div>\n",
       "<style scoped>\n",
       "    .dataframe tbody tr th:only-of-type {\n",
       "        vertical-align: middle;\n",
       "    }\n",
       "\n",
       "    .dataframe tbody tr th {\n",
       "        vertical-align: top;\n",
       "    }\n",
       "\n",
       "    .dataframe thead th {\n",
       "        text-align: right;\n",
       "    }\n",
       "</style>\n",
       "<table border=\"1\" class=\"dataframe\">\n",
       "  <thead>\n",
       "    <tr style=\"text-align: right;\">\n",
       "      <th></th>\n",
       "      <th>Category</th>\n",
       "      <th>Sales</th>\n",
       "    </tr>\n",
       "  </thead>\n",
       "  <tbody>\n",
       "    <tr>\n",
       "      <th>0</th>\n",
       "      <td>PERFUMERY</td>\n",
       "      <td>506738.66</td>\n",
       "    </tr>\n",
       "    <tr>\n",
       "      <th>1</th>\n",
       "      <td>FURNITURE DECORATION</td>\n",
       "      <td>1430176.39</td>\n",
       "    </tr>\n",
       "    <tr>\n",
       "      <th>2</th>\n",
       "      <td>TELEPHONY</td>\n",
       "      <td>486882.05</td>\n",
       "    </tr>\n",
       "    <tr>\n",
       "      <th>3</th>\n",
       "      <td>BED TABLE BATH</td>\n",
       "      <td>1712553.67</td>\n",
       "    </tr>\n",
       "    <tr>\n",
       "      <th>4</th>\n",
       "      <td>AUTOMOTIVE</td>\n",
       "      <td>852294.33</td>\n",
       "    </tr>\n",
       "    <tr>\n",
       "      <th>...</th>\n",
       "      <td>...</td>\n",
       "      <td>...</td>\n",
       "    </tr>\n",
       "    <tr>\n",
       "      <th>69</th>\n",
       "      <td>CDS MUSIC DVDS</td>\n",
       "      <td>1199.43</td>\n",
       "    </tr>\n",
       "    <tr>\n",
       "      <th>70</th>\n",
       "      <td>LA CUISINE</td>\n",
       "      <td>2913.53</td>\n",
       "    </tr>\n",
       "    <tr>\n",
       "      <th>71</th>\n",
       "      <td>FASHION CHILDREN'S CLOTHING</td>\n",
       "      <td>785.67</td>\n",
       "    </tr>\n",
       "    <tr>\n",
       "      <th>72</th>\n",
       "      <td>PC GAMER</td>\n",
       "      <td>2174.43</td>\n",
       "    </tr>\n",
       "    <tr>\n",
       "      <th>73</th>\n",
       "      <td>INSURANCE AND SERVICES</td>\n",
       "      <td>324.51</td>\n",
       "    </tr>\n",
       "  </tbody>\n",
       "</table>\n",
       "<p>74 rows × 2 columns</p>\n",
       "</div>"
      ],
      "text/plain": [
       "                       Category       Sales\n",
       "0                     PERFUMERY   506738.66\n",
       "1          FURNITURE DECORATION  1430176.39\n",
       "2                     TELEPHONY   486882.05\n",
       "3                BED TABLE BATH  1712553.67\n",
       "4                    AUTOMOTIVE   852294.33\n",
       "..                          ...         ...\n",
       "69               CDS MUSIC DVDS     1199.43\n",
       "70                   LA CUISINE     2913.53\n",
       "71  FASHION CHILDREN'S CLOTHING      785.67\n",
       "72                     PC GAMER     2174.43\n",
       "73       INSURANCE AND SERVICES      324.51\n",
       "\n",
       "[74 rows x 2 columns]"
      ]
     },
     "execution_count": 7,
     "metadata": {},
     "output_type": "execute_result"
    }
   ],
   "source": [
    "df = pd.DataFrame(data , columns = ['Category', 'Sales'])\n",
    "df"
   ]
  },
  {
   "cell_type": "code",
   "execution_count": null,
   "id": "748fc118-6ada-4f4c-9d98-a86d390f2f5d",
   "metadata": {},
   "outputs": [],
   "source": []
  },
  {
   "cell_type": "markdown",
   "id": "66c3622b-8834-47c5-b7fa-7ffbc3b703e6",
   "metadata": {},
   "source": [
    "# 4. Calculate the percentage of orders that were paid in installments."
   ]
  },
  {
   "cell_type": "code",
   "execution_count": 8,
   "id": "5aa7c9c7-9c5c-4934-b8e2-d01fdc2646f6",
   "metadata": {},
   "outputs": [
    {
     "data": {
      "text/plain": [
       "[(Decimal('99.9981'),)]"
      ]
     },
     "execution_count": 8,
     "metadata": {},
     "output_type": "execute_result"
    }
   ],
   "source": [
    "query = \"\"\" select ((sum(case when payment_installments >= 1 then 1 else 0 end))/ count(*))*100 from payments\"\"\"\n",
    "cur.execute(query)\n",
    "data = cur.fetchall()\n",
    "data"
   ]
  },
  {
   "cell_type": "code",
   "execution_count": null,
   "id": "625ce4fd-dacd-4f8d-b496-7879460841fe",
   "metadata": {},
   "outputs": [],
   "source": []
  },
  {
   "cell_type": "markdown",
   "id": "c44baab4-4d9e-414d-9592-9df24ea31214",
   "metadata": {},
   "source": [
    "# 5. Count the number of customers from each state. "
   ]
  },
  {
   "cell_type": "code",
   "execution_count": 9,
   "id": "65f42de1-392c-4e0d-9643-7aad746f97eb",
   "metadata": {},
   "outputs": [
    {
     "data": {
      "text/html": [
       "<div>\n",
       "<style scoped>\n",
       "    .dataframe tbody tr th:only-of-type {\n",
       "        vertical-align: middle;\n",
       "    }\n",
       "\n",
       "    .dataframe tbody tr th {\n",
       "        vertical-align: top;\n",
       "    }\n",
       "\n",
       "    .dataframe thead th {\n",
       "        text-align: right;\n",
       "    }\n",
       "</style>\n",
       "<table border=\"1\" class=\"dataframe\">\n",
       "  <thead>\n",
       "    <tr style=\"text-align: right;\">\n",
       "      <th></th>\n",
       "      <th>Count</th>\n",
       "      <th>State</th>\n",
       "    </tr>\n",
       "  </thead>\n",
       "  <tbody>\n",
       "    <tr>\n",
       "      <th>0</th>\n",
       "      <td>41746</td>\n",
       "      <td>SP</td>\n",
       "    </tr>\n",
       "    <tr>\n",
       "      <th>1</th>\n",
       "      <td>3637</td>\n",
       "      <td>SC</td>\n",
       "    </tr>\n",
       "    <tr>\n",
       "      <th>2</th>\n",
       "      <td>11635</td>\n",
       "      <td>MG</td>\n",
       "    </tr>\n",
       "    <tr>\n",
       "      <th>3</th>\n",
       "      <td>5045</td>\n",
       "      <td>PR</td>\n",
       "    </tr>\n",
       "    <tr>\n",
       "      <th>4</th>\n",
       "      <td>12852</td>\n",
       "      <td>RJ</td>\n",
       "    </tr>\n",
       "  </tbody>\n",
       "</table>\n",
       "</div>"
      ],
      "text/plain": [
       "   Count State\n",
       "0  41746    SP\n",
       "1   3637    SC\n",
       "2  11635    MG\n",
       "3   5045    PR\n",
       "4  12852    RJ"
      ]
     },
     "execution_count": 9,
     "metadata": {},
     "output_type": "execute_result"
    }
   ],
   "source": [
    "query = \"\"\" select count(customer_id) , customer_state state from customers group by state\"\"\"\n",
    "cur.execute(query)\n",
    "data = cur.fetchall()\n",
    "df = pd.DataFrame(data , columns = ['Count','State'])\n",
    "df.head()"
   ]
  },
  {
   "cell_type": "code",
   "execution_count": 10,
   "id": "35023948-6c7c-4297-81ed-7d92c00014dd",
   "metadata": {},
   "outputs": [
    {
     "data": {
      "image/png": "[encoded data removed]",
      "text/plain": [
       "<Figure size 640x480 with 1 Axes>"
      ]
     },
     "metadata": {},
     "output_type": "display_data"
    }
   ],
   "source": [
    "plt.bar( df['State'],df['Count'])\n",
    "plt.xticks(rotation = 90)\n",
    "plt.show()"
   ]
  },
  {
   "cell_type": "code",
   "execution_count": null,
   "id": "ac62a05f-175e-469c-89ce-20b305581732",
   "metadata": {},
   "outputs": [],
   "source": []
  },
  {
   "cell_type": "code",
   "execution_count": null,
   "id": "af2fa4a1-9cfb-4c8b-be2b-5e0ee317c2c7",
   "metadata": {},
   "outputs": [],
   "source": []
  },
  {
   "cell_type": "code",
   "execution_count": null,
   "id": "b9d2af2f-83e9-4ab6-97c9-02ffea136ec0",
   "metadata": {},
   "outputs": [],
   "source": []
  },
  {
   "cell_type": "markdown",
   "id": "7f628728-f2cc-4ba1-b631-3fdb64d27515",
   "metadata": {},
   "source": [
    "# Intermediate Queries"
   ]
  },
  {
   "cell_type": "code",
   "execution_count": null,
   "id": "6f417b7e-f8b1-4b4f-a4d2-6b18d1be1910",
   "metadata": {},
   "outputs": [],
   "source": []
  },
  {
   "cell_type": "code",
   "execution_count": null,
   "id": "a2d065f6-527d-444f-95c5-d69e8fdeb7b2",
   "metadata": {},
   "outputs": [],
   "source": []
  },
  {
   "cell_type": "markdown",
   "id": "2591f4e4-3384-4395-98c5-3133475b69d1",
   "metadata": {},
   "source": [
    "# 1. Calculate the number of orders per month in 2018."
   ]
  },
  {
   "cell_type": "code",
   "execution_count": 11,
   "id": "49920727-76d4-44f3-a70f-16dfbdadcdd3",
   "metadata": {},
   "outputs": [
    {
     "data": {
      "text/html": [
       "<div>\n",
       "<style scoped>\n",
       "    .dataframe tbody tr th:only-of-type {\n",
       "        vertical-align: middle;\n",
       "    }\n",
       "\n",
       "    .dataframe tbody tr th {\n",
       "        vertical-align: top;\n",
       "    }\n",
       "\n",
       "    .dataframe thead th {\n",
       "        text-align: right;\n",
       "    }\n",
       "</style>\n",
       "<table border=\"1\" class=\"dataframe\">\n",
       "  <thead>\n",
       "    <tr style=\"text-align: right;\">\n",
       "      <th></th>\n",
       "      <th>Month</th>\n",
       "      <th>No_of_orders</th>\n",
       "    </tr>\n",
       "  </thead>\n",
       "  <tbody>\n",
       "    <tr>\n",
       "      <th>0</th>\n",
       "      <td>July</td>\n",
       "      <td>6292</td>\n",
       "    </tr>\n",
       "    <tr>\n",
       "      <th>1</th>\n",
       "      <td>August</td>\n",
       "      <td>6512</td>\n",
       "    </tr>\n",
       "    <tr>\n",
       "      <th>2</th>\n",
       "      <td>February</td>\n",
       "      <td>6728</td>\n",
       "    </tr>\n",
       "    <tr>\n",
       "      <th>3</th>\n",
       "      <td>June</td>\n",
       "      <td>6167</td>\n",
       "    </tr>\n",
       "    <tr>\n",
       "      <th>4</th>\n",
       "      <td>March</td>\n",
       "      <td>7211</td>\n",
       "    </tr>\n",
       "    <tr>\n",
       "      <th>5</th>\n",
       "      <td>January</td>\n",
       "      <td>7269</td>\n",
       "    </tr>\n",
       "    <tr>\n",
       "      <th>6</th>\n",
       "      <td>May</td>\n",
       "      <td>6873</td>\n",
       "    </tr>\n",
       "    <tr>\n",
       "      <th>7</th>\n",
       "      <td>April</td>\n",
       "      <td>6939</td>\n",
       "    </tr>\n",
       "    <tr>\n",
       "      <th>8</th>\n",
       "      <td>September</td>\n",
       "      <td>16</td>\n",
       "    </tr>\n",
       "    <tr>\n",
       "      <th>9</th>\n",
       "      <td>October</td>\n",
       "      <td>4</td>\n",
       "    </tr>\n",
       "  </tbody>\n",
       "</table>\n",
       "</div>"
      ],
      "text/plain": [
       "       Month  No_of_orders\n",
       "0       July          6292\n",
       "1     August          6512\n",
       "2   February          6728\n",
       "3       June          6167\n",
       "4      March          7211\n",
       "5    January          7269\n",
       "6        May          6873\n",
       "7      April          6939\n",
       "8  September            16\n",
       "9    October             4"
      ]
     },
     "execution_count": 11,
     "metadata": {},
     "output_type": "execute_result"
    }
   ],
   "source": [
    "query = '''select monthname(order_purchase_timestamp) month , count(order_id) order_count\n",
    "        from orders where year(order_purchase_timestamp) = 2018\n",
    "        group by month'''\n",
    "cur.execute(query)\n",
    "data = cur.fetchall()\n",
    "df = pd.DataFrame(data,columns = ['Month','No_of_orders'])\n",
    "o = ['January','February','March','April','May','June','July','August','September','October']\n",
    "df"
   ]
  },
  {
   "cell_type": "code",
   "execution_count": 12,
   "id": "183380cc-1a03-4302-902f-5b8bcb2d26ce",
   "metadata": {},
   "outputs": [
    {
     "data": {
      "image/png": "[encoded data removed]",
      "text/plain": [
       "<Figure size 640x480 with 1 Axes>"
      ]
     },
     "metadata": {},
     "output_type": "display_data"
    }
   ],
   "source": [
    "ax = sns.barplot(x = 'Month' , y = 'No_of_orders' , data = df,order = o)\n",
    "ax.bar_label(ax.containers[0])\n",
    "plt.xticks(rotation =45)\n",
    "\n",
    "plt.title('Count of orders by months in 2018')\n",
    "plt.show()"
   ]
  },
  {
   "cell_type": "code",
   "execution_count": null,
   "id": "957c856a-0df6-4c52-ae00-3d9c086e0b8e",
   "metadata": {},
   "outputs": [],
   "source": []
  },
  {
   "cell_type": "code",
   "execution_count": null,
   "id": "da853d32-de2a-4f1c-b121-adf06967d10b",
   "metadata": {},
   "outputs": [],
   "source": []
  },
  {
   "cell_type": "markdown",
   "id": "52cb370d-817b-4dce-8ccf-48b430c42eb3",
   "metadata": {},
   "source": [
    "# 2. Find the average number of products per order, grouped by customer city."
   ]
  },
  {
   "cell_type": "code",
   "execution_count": 13,
   "id": "5517ce86-ce86-46cc-b81e-9e75ac563e0c",
   "metadata": {},
   "outputs": [
    {
     "data": {
      "text/html": [
       "<div>\n",
       "<style scoped>\n",
       "    .dataframe tbody tr th:only-of-type {\n",
       "        vertical-align: middle;\n",
       "    }\n",
       "\n",
       "    .dataframe tbody tr th {\n",
       "        vertical-align: top;\n",
       "    }\n",
       "\n",
       "    .dataframe thead th {\n",
       "        text-align: right;\n",
       "    }\n",
       "</style>\n",
       "<table border=\"1\" class=\"dataframe\">\n",
       "  <thead>\n",
       "    <tr style=\"text-align: right;\">\n",
       "      <th></th>\n",
       "      <th>City</th>\n",
       "      <th>Avg_order</th>\n",
       "    </tr>\n",
       "  </thead>\n",
       "  <tbody>\n",
       "    <tr>\n",
       "      <th>0</th>\n",
       "      <td>celso ramos</td>\n",
       "      <td>7</td>\n",
       "    </tr>\n",
       "    <tr>\n",
       "      <th>1</th>\n",
       "      <td>padre carvalho</td>\n",
       "      <td>7</td>\n",
       "    </tr>\n",
       "    <tr>\n",
       "      <th>2</th>\n",
       "      <td>datas</td>\n",
       "      <td>6</td>\n",
       "    </tr>\n",
       "    <tr>\n",
       "      <th>3</th>\n",
       "      <td>candido godoi</td>\n",
       "      <td>6</td>\n",
       "    </tr>\n",
       "    <tr>\n",
       "      <th>4</th>\n",
       "      <td>matias olimpio</td>\n",
       "      <td>5</td>\n",
       "    </tr>\n",
       "    <tr>\n",
       "      <th>...</th>\n",
       "      <td>...</td>\n",
       "      <td>...</td>\n",
       "    </tr>\n",
       "    <tr>\n",
       "      <th>4105</th>\n",
       "      <td>mombaca</td>\n",
       "      <td>1</td>\n",
       "    </tr>\n",
       "    <tr>\n",
       "      <th>4106</th>\n",
       "      <td>bom jesus do amparo</td>\n",
       "      <td>1</td>\n",
       "    </tr>\n",
       "    <tr>\n",
       "      <th>4107</th>\n",
       "      <td>mucambo</td>\n",
       "      <td>1</td>\n",
       "    </tr>\n",
       "    <tr>\n",
       "      <th>4108</th>\n",
       "      <td>oiapoque</td>\n",
       "      <td>1</td>\n",
       "    </tr>\n",
       "    <tr>\n",
       "      <th>4109</th>\n",
       "      <td>barra de guabiraba</td>\n",
       "      <td>1</td>\n",
       "    </tr>\n",
       "  </tbody>\n",
       "</table>\n",
       "<p>4110 rows × 2 columns</p>\n",
       "</div>"
      ],
      "text/plain": [
       "                     City Avg_order\n",
       "0             celso ramos         7\n",
       "1          padre carvalho         7\n",
       "2                   datas         6\n",
       "3           candido godoi         6\n",
       "4          matias olimpio         5\n",
       "...                   ...       ...\n",
       "4105              mombaca         1\n",
       "4106  bom jesus do amparo         1\n",
       "4107              mucambo         1\n",
       "4108             oiapoque         1\n",
       "4109   barra de guabiraba         1\n",
       "\n",
       "[4110 rows x 2 columns]"
      ]
     },
     "execution_count": 13,
     "metadata": {},
     "output_type": "execute_result"
    }
   ],
   "source": [
    "query = \"\"\"with count_per_order as(select orders.order_id , orders.customer_id , count(order_items.order_id) as oc\n",
    "        from orders join order_items\n",
    "        on orders.order_id = order_items.order_id\n",
    "        group by orders.order_id , orders.customer_id)\n",
    "\n",
    "        select customers.customer_city , round(avg(count_per_order.oc)) avg_orders\n",
    "        from customers join count_per_order\n",
    "        on customers.customer_id = count_per_order.customer_id\n",
    "        group by customer_city order by avg_orders desc\n",
    "\"\"\"\n",
    "\n",
    "cur.execute(query)\n",
    "\n",
    "data = cur.fetchall()\n",
    "df = pd.DataFrame(data , columns = ['City','Avg_order'])\n",
    "df"
   ]
  },
  {
   "cell_type": "code",
   "execution_count": null,
   "id": "8a5d1045-5f7a-4992-9a9a-9203e1f66203",
   "metadata": {},
   "outputs": [],
   "source": []
  },
  {
   "cell_type": "markdown",
   "id": "d41935df-1a02-4c22-b169-b41fa2664f57",
   "metadata": {},
   "source": [
    "# 3. Calculate the percentage of total revenue contributed by each product category."
   ]
  },
  {
   "cell_type": "code",
   "execution_count": 14,
   "id": "d0c842ae-ae52-4af1-bede-a254689b38e7",
   "metadata": {},
   "outputs": [
    {
     "data": {
      "text/html": [
       "<div>\n",
       "<style scoped>\n",
       "    .dataframe tbody tr th:only-of-type {\n",
       "        vertical-align: middle;\n",
       "    }\n",
       "\n",
       "    .dataframe tbody tr th {\n",
       "        vertical-align: top;\n",
       "    }\n",
       "\n",
       "    .dataframe thead th {\n",
       "        text-align: right;\n",
       "    }\n",
       "</style>\n",
       "<table border=\"1\" class=\"dataframe\">\n",
       "  <thead>\n",
       "    <tr style=\"text-align: right;\">\n",
       "      <th></th>\n",
       "      <th>Category</th>\n",
       "      <th>Percentage</th>\n",
       "    </tr>\n",
       "  </thead>\n",
       "  <tbody>\n",
       "    <tr>\n",
       "      <th>0</th>\n",
       "      <td>bed table bath</td>\n",
       "      <td>10.697529</td>\n",
       "    </tr>\n",
       "    <tr>\n",
       "      <th>1</th>\n",
       "      <td>HEALTH BEAUTY</td>\n",
       "      <td>10.352841</td>\n",
       "    </tr>\n",
       "    <tr>\n",
       "      <th>2</th>\n",
       "      <td>computer accessories</td>\n",
       "      <td>9.902824</td>\n",
       "    </tr>\n",
       "    <tr>\n",
       "      <th>3</th>\n",
       "      <td>Furniture Decoration</td>\n",
       "      <td>8.933649</td>\n",
       "    </tr>\n",
       "    <tr>\n",
       "      <th>4</th>\n",
       "      <td>Watches present</td>\n",
       "      <td>8.927654</td>\n",
       "    </tr>\n",
       "    <tr>\n",
       "      <th>...</th>\n",
       "      <td>...</td>\n",
       "      <td>...</td>\n",
       "    </tr>\n",
       "    <tr>\n",
       "      <th>69</th>\n",
       "      <td>PC Gamer</td>\n",
       "      <td>0.013583</td>\n",
       "    </tr>\n",
       "    <tr>\n",
       "      <th>70</th>\n",
       "      <td>House Comfort 2</td>\n",
       "      <td>0.010685</td>\n",
       "    </tr>\n",
       "    <tr>\n",
       "      <th>71</th>\n",
       "      <td>cds music dvds</td>\n",
       "      <td>0.007492</td>\n",
       "    </tr>\n",
       "    <tr>\n",
       "      <th>72</th>\n",
       "      <td>Fashion Children's Clothing</td>\n",
       "      <td>0.004908</td>\n",
       "    </tr>\n",
       "    <tr>\n",
       "      <th>73</th>\n",
       "      <td>insurance and services</td>\n",
       "      <td>0.002027</td>\n",
       "    </tr>\n",
       "  </tbody>\n",
       "</table>\n",
       "<p>74 rows × 2 columns</p>\n",
       "</div>"
      ],
      "text/plain": [
       "                       Category  Percentage\n",
       "0                bed table bath   10.697529\n",
       "1                 HEALTH BEAUTY   10.352841\n",
       "2          computer accessories    9.902824\n",
       "3          Furniture Decoration    8.933649\n",
       "4               Watches present    8.927654\n",
       "..                          ...         ...\n",
       "69                     PC Gamer    0.013583\n",
       "70              House Comfort 2    0.010685\n",
       "71               cds music dvds    0.007492\n",
       "72  Fashion Children's Clothing    0.004908\n",
       "73       insurance and services    0.002027\n",
       "\n",
       "[74 rows x 2 columns]"
      ]
     },
     "execution_count": 14,
     "metadata": {},
     "output_type": "execute_result"
    }
   ],
   "source": [
    "query = '''select (products.product_category) category , sum(payments.payment_value)/(select sum(payment_value) from payments)*100 sales \n",
    "        from products join order_items\n",
    "        on  products.product_id = order_items.product_id\n",
    "        join payments \n",
    "        on payments.order_id = order_items.order_id\n",
    "        group by category order by sales desc'''\n",
    "\n",
    "cur.execute(query)\n",
    "data = cur.fetchall()\n",
    "df = pd.DataFrame(data, columns = ['Category' , 'Percentage'])\n",
    "df"
   ]
  },
  {
   "cell_type": "code",
   "execution_count": null,
   "id": "23cb7071-57c7-4a92-b170-c1059fa5b02c",
   "metadata": {},
   "outputs": [],
   "source": []
  },
  {
   "cell_type": "markdown",
   "id": "494f555a-405e-49b6-b70b-0ee23a65cccd",
   "metadata": {},
   "source": [
    "# 4. Identify the correlation between product price and the number of times a product has been purchased."
   ]
  },
  {
   "cell_type": "code",
   "execution_count": 15,
   "id": "ba33539b-8a00-490c-bb56-431357183d3e",
   "metadata": {},
   "outputs": [
    {
     "data": {
      "text/html": [
       "<div>\n",
       "<style scoped>\n",
       "    .dataframe tbody tr th:only-of-type {\n",
       "        vertical-align: middle;\n",
       "    }\n",
       "\n",
       "    .dataframe tbody tr th {\n",
       "        vertical-align: top;\n",
       "    }\n",
       "\n",
       "    .dataframe thead th {\n",
       "        text-align: right;\n",
       "    }\n",
       "</style>\n",
       "<table border=\"1\" class=\"dataframe\">\n",
       "  <thead>\n",
       "    <tr style=\"text-align: right;\">\n",
       "      <th></th>\n",
       "      <th>Category</th>\n",
       "      <th>order_count</th>\n",
       "      <th>price</th>\n",
       "    </tr>\n",
       "  </thead>\n",
       "  <tbody>\n",
       "    <tr>\n",
       "      <th>0</th>\n",
       "      <td>HEALTH BEAUTY</td>\n",
       "      <td>9670</td>\n",
       "      <td>130.16</td>\n",
       "    </tr>\n",
       "    <tr>\n",
       "      <th>1</th>\n",
       "      <td>sport leisure</td>\n",
       "      <td>8641</td>\n",
       "      <td>114.34</td>\n",
       "    </tr>\n",
       "    <tr>\n",
       "      <th>2</th>\n",
       "      <td>Cool Stuff</td>\n",
       "      <td>3796</td>\n",
       "      <td>167.36</td>\n",
       "    </tr>\n",
       "    <tr>\n",
       "      <th>3</th>\n",
       "      <td>computer accessories</td>\n",
       "      <td>7827</td>\n",
       "      <td>116.51</td>\n",
       "    </tr>\n",
       "    <tr>\n",
       "      <th>4</th>\n",
       "      <td>Watches present</td>\n",
       "      <td>5991</td>\n",
       "      <td>201.14</td>\n",
       "    </tr>\n",
       "    <tr>\n",
       "      <th>...</th>\n",
       "      <td>...</td>\n",
       "      <td>...</td>\n",
       "      <td>...</td>\n",
       "    </tr>\n",
       "    <tr>\n",
       "      <th>69</th>\n",
       "      <td>flowers</td>\n",
       "      <td>33</td>\n",
       "      <td>33.64</td>\n",
       "    </tr>\n",
       "    <tr>\n",
       "      <th>70</th>\n",
       "      <td>Kitchen portable and food coach</td>\n",
       "      <td>15</td>\n",
       "      <td>264.57</td>\n",
       "    </tr>\n",
       "    <tr>\n",
       "      <th>71</th>\n",
       "      <td>House Comfort 2</td>\n",
       "      <td>30</td>\n",
       "      <td>25.34</td>\n",
       "    </tr>\n",
       "    <tr>\n",
       "      <th>72</th>\n",
       "      <td>CITTE AND UPHACK FURNITURE</td>\n",
       "      <td>38</td>\n",
       "      <td>114.95</td>\n",
       "    </tr>\n",
       "    <tr>\n",
       "      <th>73</th>\n",
       "      <td>cds music dvds</td>\n",
       "      <td>14</td>\n",
       "      <td>52.14</td>\n",
       "    </tr>\n",
       "  </tbody>\n",
       "</table>\n",
       "<p>74 rows × 3 columns</p>\n",
       "</div>"
      ],
      "text/plain": [
       "                           Category  order_count   price\n",
       "0                     HEALTH BEAUTY         9670  130.16\n",
       "1                     sport leisure         8641  114.34\n",
       "2                        Cool Stuff         3796  167.36\n",
       "3              computer accessories         7827  116.51\n",
       "4                   Watches present         5991  201.14\n",
       "..                              ...          ...     ...\n",
       "69                          flowers           33   33.64\n",
       "70  Kitchen portable and food coach           15  264.57\n",
       "71                  House Comfort 2           30   25.34\n",
       "72       CITTE AND UPHACK FURNITURE           38  114.95\n",
       "73                   cds music dvds           14   52.14\n",
       "\n",
       "[74 rows x 3 columns]"
      ]
     },
     "execution_count": 15,
     "metadata": {},
     "output_type": "execute_result"
    }
   ],
   "source": [
    "query ='''select products.product_category , count(order_items.product_id) , round(avg(order_items.price),2)\n",
    "from products join order_items \n",
    "on products.product_id = order_items.product_id\n",
    "group by products.product_category;'''\n",
    "\n",
    "cur.execute(query)\n",
    "data = cur.fetchall()\n",
    "df = pd.DataFrame(data ,columns = ['Category','order_count' , 'price'])\n",
    "df"
   ]
  },
  {
   "cell_type": "code",
   "execution_count": 16,
   "id": "9dc3680d-a48f-43d1-94bc-eedc4f851ce6",
   "metadata": {},
   "outputs": [
    {
     "data": {
      "text/plain": [
       "array([[ 1.        , -0.10631514],\n",
       "       [-0.10631514,  1.        ]])"
      ]
     },
     "execution_count": 16,
     "metadata": {},
     "output_type": "execute_result"
    }
   ],
   "source": [
    "array1 =df['order_count']\n",
    "array2 = df['price']\n",
    "a = np.corrcoef(array1 , array2)\n",
    "a"
   ]
  },
  {
   "cell_type": "code",
   "execution_count": 17,
   "id": "7b37e841-87ec-4b4f-a1a7-69f2db9a8856",
   "metadata": {},
   "outputs": [
    {
     "name": "stdout",
     "output_type": "stream",
     "text": [
      "The correlation between product price and the number of times a product has been purchased is  -0.10631514167157562\n"
     ]
    }
   ],
   "source": [
    "print('The correlation between product price and the number of times a product has been purchased is ',a[0][1])"
   ]
  },
  {
   "cell_type": "code",
   "execution_count": null,
   "id": "d8dd94bf-93fc-4169-ad81-53760aeb30ff",
   "metadata": {},
   "outputs": [],
   "source": []
  },
  {
   "cell_type": "markdown",
   "id": "7fd0b55e-2fb8-4efa-b847-213b4255a0af",
   "metadata": {},
   "source": [
    "# 5. Calculate the total revenue generated by each seller, and rank them by revenue."
   ]
  },
  {
   "cell_type": "code",
   "execution_count": 18,
   "id": "eac39575-f7ff-4215-b034-1195997ac71f",
   "metadata": {},
   "outputs": [],
   "source": [
    "query = '''select * ,dense_rank() over(order by revenue desc) as rk from \n",
    "(select  order_items.seller_id , sum(payments.payment_value) revenue\n",
    "from order_items join payments\n",
    "on order_items.order_id = payments.order_id\n",
    "group by order_items.seller_id)as a'''\n",
    "\n",
    "cur.execute(query)\n",
    "data = cur.fetchall()\n",
    "df = pd.DataFrame(data,columns = ['seller_id','revenue','rank'])\n",
    "af = df.head(10)"
   ]
  },
  {
   "cell_type": "code",
   "execution_count": 19,
   "id": "0c28db2d-73ed-4d04-9679-4729e23d6c41",
   "metadata": {},
   "outputs": [
    {
     "data": {
      "image/png": "[encoded data removed]",
      "text/plain": [
       "<Figure size 640x480 with 1 Axes>"
      ]
     },
     "metadata": {},
     "output_type": "display_data"
    }
   ],
   "source": [
    "sns.barplot(x = af['seller_id'], y = af['revenue'], hue = af['seller_id'])\n",
    "plt.xticks(rotation = 90)\n",
    "plt.show()"
   ]
  },
  {
   "cell_type": "code",
   "execution_count": null,
   "id": "900755f4-2fae-4ebd-8d34-7a22bc0e5681",
   "metadata": {},
   "outputs": [],
   "source": []
  },
  {
   "cell_type": "code",
   "execution_count": null,
   "id": "18727c23-598a-402f-aabc-c1adcb366e71",
   "metadata": {},
   "outputs": [],
   "source": []
  },
  {
   "cell_type": "code",
   "execution_count": null,
   "id": "81ab6b8a-e636-4eef-9d52-d35ff579b7b9",
   "metadata": {},
   "outputs": [],
   "source": []
  },
  {
   "cell_type": "markdown",
   "id": "64216a8d-d247-4e2e-8b77-418a7054202f",
   "metadata": {},
   "source": [
    "# Advanced Queries"
   ]
  },
  {
   "cell_type": "code",
   "execution_count": null,
   "id": "29e6e1c2-c397-4a4a-aa7c-70e43898f4c2",
   "metadata": {},
   "outputs": [],
   "source": []
  },
  {
   "cell_type": "code",
   "execution_count": null,
   "id": "a064cccd-6e39-4c20-ab15-79a97037c2a9",
   "metadata": {},
   "outputs": [],
   "source": []
  },
  {
   "cell_type": "markdown",
   "id": "5f4720ec-3fe2-46e6-90a9-9658a284bf99",
   "metadata": {},
   "source": [
    "# 1. Calculate the moving average of order values for each customer over their order history."
   ]
  },
  {
   "cell_type": "code",
   "execution_count": 20,
   "id": "08508cb1-7154-436a-a2f0-75e87d07ed03",
   "metadata": {},
   "outputs": [
    {
     "data": {
      "text/html": [
       "<div>\n",
       "<style scoped>\n",
       "    .dataframe tbody tr th:only-of-type {\n",
       "        vertical-align: middle;\n",
       "    }\n",
       "\n",
       "    .dataframe tbody tr th {\n",
       "        vertical-align: top;\n",
       "    }\n",
       "\n",
       "    .dataframe thead th {\n",
       "        text-align: right;\n",
       "    }\n",
       "</style>\n",
       "<table border=\"1\" class=\"dataframe\">\n",
       "  <thead>\n",
       "    <tr style=\"text-align: right;\">\n",
       "      <th></th>\n",
       "      <th>customer_id</th>\n",
       "      <th>timestamp</th>\n",
       "      <th>payment</th>\n",
       "      <th>mov_avg</th>\n",
       "    </tr>\n",
       "  </thead>\n",
       "  <tbody>\n",
       "    <tr>\n",
       "      <th>0</th>\n",
       "      <td>00012a2ce6f8dcda20d059ce98491703</td>\n",
       "      <td>2017-11-14 16:08:26</td>\n",
       "      <td>114.74</td>\n",
       "      <td>114.739998</td>\n",
       "    </tr>\n",
       "    <tr>\n",
       "      <th>1</th>\n",
       "      <td>000161a058600d5901f007fab4c27140</td>\n",
       "      <td>2017-07-16 09:40:32</td>\n",
       "      <td>67.41</td>\n",
       "      <td>67.410004</td>\n",
       "    </tr>\n",
       "    <tr>\n",
       "      <th>2</th>\n",
       "      <td>0001fd6190edaaf884bcaf3d49edf079</td>\n",
       "      <td>2017-02-28 11:06:43</td>\n",
       "      <td>195.42</td>\n",
       "      <td>195.419998</td>\n",
       "    </tr>\n",
       "    <tr>\n",
       "      <th>3</th>\n",
       "      <td>0002414f95344307404f0ace7a26f1d5</td>\n",
       "      <td>2017-08-16 13:09:20</td>\n",
       "      <td>179.35</td>\n",
       "      <td>179.350006</td>\n",
       "    </tr>\n",
       "    <tr>\n",
       "      <th>4</th>\n",
       "      <td>000379cdec625522490c315e70c7a9fb</td>\n",
       "      <td>2018-04-02 13:42:17</td>\n",
       "      <td>107.01</td>\n",
       "      <td>107.010002</td>\n",
       "    </tr>\n",
       "    <tr>\n",
       "      <th>...</th>\n",
       "      <td>...</td>\n",
       "      <td>...</td>\n",
       "      <td>...</td>\n",
       "      <td>...</td>\n",
       "    </tr>\n",
       "    <tr>\n",
       "      <th>103881</th>\n",
       "      <td>fffecc9f79fd8c764f843e9951b11341</td>\n",
       "      <td>2018-03-29 16:59:26</td>\n",
       "      <td>71.23</td>\n",
       "      <td>27.120001</td>\n",
       "    </tr>\n",
       "    <tr>\n",
       "      <th>103882</th>\n",
       "      <td>fffeda5b6d849fbd39689bb92087f431</td>\n",
       "      <td>2018-05-22 13:36:02</td>\n",
       "      <td>63.13</td>\n",
       "      <td>63.130001</td>\n",
       "    </tr>\n",
       "    <tr>\n",
       "      <th>103883</th>\n",
       "      <td>ffff42319e9b2d713724ae527742af25</td>\n",
       "      <td>2018-06-13 16:57:05</td>\n",
       "      <td>214.13</td>\n",
       "      <td>214.130005</td>\n",
       "    </tr>\n",
       "    <tr>\n",
       "      <th>103884</th>\n",
       "      <td>ffffa3172527f765de70084a7e53aae8</td>\n",
       "      <td>2017-09-02 11:53:32</td>\n",
       "      <td>45.50</td>\n",
       "      <td>45.500000</td>\n",
       "    </tr>\n",
       "    <tr>\n",
       "      <th>103885</th>\n",
       "      <td>ffffe8b65bbe3087b653a978c870db99</td>\n",
       "      <td>2017-09-29 14:07:03</td>\n",
       "      <td>18.37</td>\n",
       "      <td>18.370001</td>\n",
       "    </tr>\n",
       "  </tbody>\n",
       "</table>\n",
       "<p>103886 rows × 4 columns</p>\n",
       "</div>"
      ],
      "text/plain": [
       "                             customer_id            timestamp  payment  \\\n",
       "0       00012a2ce6f8dcda20d059ce98491703  2017-11-14 16:08:26   114.74   \n",
       "1       000161a058600d5901f007fab4c27140  2017-07-16 09:40:32    67.41   \n",
       "2       0001fd6190edaaf884bcaf3d49edf079  2017-02-28 11:06:43   195.42   \n",
       "3       0002414f95344307404f0ace7a26f1d5  2017-08-16 13:09:20   179.35   \n",
       "4       000379cdec625522490c315e70c7a9fb  2018-04-02 13:42:17   107.01   \n",
       "...                                  ...                  ...      ...   \n",
       "103881  fffecc9f79fd8c764f843e9951b11341  2018-03-29 16:59:26    71.23   \n",
       "103882  fffeda5b6d849fbd39689bb92087f431  2018-05-22 13:36:02    63.13   \n",
       "103883  ffff42319e9b2d713724ae527742af25  2018-06-13 16:57:05   214.13   \n",
       "103884  ffffa3172527f765de70084a7e53aae8  2017-09-02 11:53:32    45.50   \n",
       "103885  ffffe8b65bbe3087b653a978c870db99  2017-09-29 14:07:03    18.37   \n",
       "\n",
       "           mov_avg  \n",
       "0       114.739998  \n",
       "1        67.410004  \n",
       "2       195.419998  \n",
       "3       179.350006  \n",
       "4       107.010002  \n",
       "...            ...  \n",
       "103881   27.120001  \n",
       "103882   63.130001  \n",
       "103883  214.130005  \n",
       "103884   45.500000  \n",
       "103885   18.370001  \n",
       "\n",
       "[103886 rows x 4 columns]"
      ]
     },
     "execution_count": 20,
     "metadata": {},
     "output_type": "execute_result"
    }
   ],
   "source": [
    "query = '''select customer_id , order_purchase_timestamp,payment,\n",
    "avg(payment) over(partition by customer_id order by order_purchase_timestamp\n",
    "rows between 2 preceding and current row) as mov_avg\n",
    "from\n",
    "\n",
    "(select orders.customer_id , orders.order_purchase_timestamp , \n",
    "payments.payment_value as payment\n",
    "from orders join payments \n",
    "on orders.order_id = payments.order_id)as a'''\n",
    "\n",
    "cur.execute(query)\n",
    "data = cur.fetchall()\n",
    "df = pd.DataFrame(data,columns = ['customer_id', 'timestamp','payment','mov_avg'])\n",
    "df"
   ]
  },
  {
   "cell_type": "code",
   "execution_count": null,
   "id": "4dfb16f1-6112-4c71-891b-ad2e5abbc896",
   "metadata": {},
   "outputs": [],
   "source": []
  },
  {
   "cell_type": "markdown",
   "id": "67cc75ad-dce0-40d8-85c4-f0ef6543bb74",
   "metadata": {},
   "source": [
    "# 2. Calculate the cumulative sales per month for each year."
   ]
  },
  {
   "cell_type": "code",
   "execution_count": 21,
   "id": "b8b29f53-f35c-4612-b1a7-40e07f0f5a16",
   "metadata": {},
   "outputs": [
    {
     "data": {
      "text/html": [
       "<div>\n",
       "<style scoped>\n",
       "    .dataframe tbody tr th:only-of-type {\n",
       "        vertical-align: middle;\n",
       "    }\n",
       "\n",
       "    .dataframe tbody tr th {\n",
       "        vertical-align: top;\n",
       "    }\n",
       "\n",
       "    .dataframe thead th {\n",
       "        text-align: right;\n",
       "    }\n",
       "</style>\n",
       "<table border=\"1\" class=\"dataframe\">\n",
       "  <thead>\n",
       "    <tr style=\"text-align: right;\">\n",
       "      <th></th>\n",
       "      <th>year</th>\n",
       "      <th>month</th>\n",
       "      <th>payment</th>\n",
       "      <th>cumm_payment</th>\n",
       "      <th>Date</th>\n",
       "    </tr>\n",
       "  </thead>\n",
       "  <tbody>\n",
       "    <tr>\n",
       "      <th>0</th>\n",
       "      <td>2016</td>\n",
       "      <td>9</td>\n",
       "      <td>252.24</td>\n",
       "      <td>252.24</td>\n",
       "      <td>2016-09-01</td>\n",
       "    </tr>\n",
       "    <tr>\n",
       "      <th>1</th>\n",
       "      <td>2016</td>\n",
       "      <td>10</td>\n",
       "      <td>59090.48</td>\n",
       "      <td>59342.72</td>\n",
       "      <td>2016-10-01</td>\n",
       "    </tr>\n",
       "    <tr>\n",
       "      <th>2</th>\n",
       "      <td>2016</td>\n",
       "      <td>12</td>\n",
       "      <td>19.62</td>\n",
       "      <td>59362.34</td>\n",
       "      <td>2016-12-01</td>\n",
       "    </tr>\n",
       "    <tr>\n",
       "      <th>3</th>\n",
       "      <td>2017</td>\n",
       "      <td>1</td>\n",
       "      <td>138488.04</td>\n",
       "      <td>197850.38</td>\n",
       "      <td>2017-01-01</td>\n",
       "    </tr>\n",
       "    <tr>\n",
       "      <th>4</th>\n",
       "      <td>2017</td>\n",
       "      <td>2</td>\n",
       "      <td>291908.01</td>\n",
       "      <td>489758.39</td>\n",
       "      <td>2017-02-01</td>\n",
       "    </tr>\n",
       "  </tbody>\n",
       "</table>\n",
       "</div>"
      ],
      "text/plain": [
       "   year  month    payment  cumm_payment       Date\n",
       "0  2016      9     252.24        252.24 2016-09-01\n",
       "1  2016     10   59090.48      59342.72 2016-10-01\n",
       "2  2016     12      19.62      59362.34 2016-12-01\n",
       "3  2017      1  138488.04     197850.38 2017-01-01\n",
       "4  2017      2  291908.01     489758.39 2017-02-01"
      ]
     },
     "execution_count": 21,
     "metadata": {},
     "output_type": "execute_result"
    }
   ],
   "source": [
    "query = '''select years , months , payment ,sum(payment)\n",
    "over(order by years , months )  cumulative_sale from\n",
    "(select year(orders.order_purchase_timestamp) as  years,month(orders.order_purchase_timestamp)as months,\n",
    "round(sum(payments.payment_value),2) as payment\n",
    "from orders join payments \n",
    "on orders.order_id = payments.order_id\n",
    "group by years , months order by years , months)as a;'''\n",
    "cur.execute(query)\n",
    "data = cur.fetchall()\n",
    "df = pd.DataFrame(data, columns=['year','month','payment','cumm_payment'])\n",
    "df['Date'] = pd.to_datetime(df[['year', 'month']].assign(DAY=1))\n",
    "df.head()"
   ]
  },
  {
   "cell_type": "code",
   "execution_count": 22,
   "id": "5ac919ea-b661-43cf-92af-70ec5a5383ff",
   "metadata": {},
   "outputs": [
    {
     "data": {
      "image/png": "[encoded data removed]",
      "text/plain": [
       "<Figure size 640x480 with 1 Axes>"
      ]
     },
     "metadata": {},
     "output_type": "display_data"
    }
   ],
   "source": [
    "plt.plot(df['Date'],df['payment'], marker='o', label='payment', color='g')\n",
    "plt.xticks(rotation = 45)\n",
    "plt.show()"
   ]
  },
  {
   "cell_type": "code",
   "execution_count": 23,
   "id": "f408ce7c-6581-49cc-9343-0a71449c1df5",
   "metadata": {},
   "outputs": [
    {
     "data": {
      "image/png": "[encoded data removed]",
      "text/plain": [
       "<Figure size 640x480 with 1 Axes>"
      ]
     },
     "metadata": {},
     "output_type": "display_data"
    }
   ],
   "source": [
    "plt.plot(df['Date'], df['cumm_payment'], marker='o', label='Cumulative Payment', color='r')\n",
    "plt.xticks(rotation = 90)\n",
    "plt.title('Cumulative Payment Over Time')\n",
    "plt.xlabel('Date')\n",
    "plt.ylabel('Amount')\n",
    "plt.show()"
   ]
  },
  {
   "cell_type": "code",
   "execution_count": null,
   "id": "27c166d4-1439-447c-9b69-f8dd0ec49982",
   "metadata": {},
   "outputs": [],
   "source": []
  },
  {
   "cell_type": "code",
   "execution_count": null,
   "id": "0efbaede-82f3-4b20-be40-de77368ba88d",
   "metadata": {},
   "outputs": [],
   "source": []
  },
  {
   "cell_type": "markdown",
   "id": "a99d2824-5451-41fd-9186-67f97e2e416c",
   "metadata": {},
   "source": [
    "# 3. Calculate the year-over-year growth rate of total sales."
   ]
  },
  {
   "cell_type": "code",
   "execution_count": 24,
   "id": "c6aae746-698f-472d-ad6c-a436c2ba68cd",
   "metadata": {},
   "outputs": [
    {
     "data": {
      "text/html": [
       "<div>\n",
       "<style scoped>\n",
       "    .dataframe tbody tr th:only-of-type {\n",
       "        vertical-align: middle;\n",
       "    }\n",
       "\n",
       "    .dataframe tbody tr th {\n",
       "        vertical-align: top;\n",
       "    }\n",
       "\n",
       "    .dataframe thead th {\n",
       "        text-align: right;\n",
       "    }\n",
       "</style>\n",
       "<table border=\"1\" class=\"dataframe\">\n",
       "  <thead>\n",
       "    <tr style=\"text-align: right;\">\n",
       "      <th></th>\n",
       "      <th>year</th>\n",
       "      <th>% prev_year_sale</th>\n",
       "    </tr>\n",
       "  </thead>\n",
       "  <tbody>\n",
       "    <tr>\n",
       "      <th>0</th>\n",
       "      <td>2016</td>\n",
       "      <td>NaN</td>\n",
       "    </tr>\n",
       "    <tr>\n",
       "      <th>1</th>\n",
       "      <td>2017</td>\n",
       "      <td>12112.703761</td>\n",
       "    </tr>\n",
       "    <tr>\n",
       "      <th>2</th>\n",
       "      <td>2018</td>\n",
       "      <td>20.000924</td>\n",
       "    </tr>\n",
       "  </tbody>\n",
       "</table>\n",
       "</div>"
      ],
      "text/plain": [
       "   year  % prev_year_sale\n",
       "0  2016               NaN\n",
       "1  2017      12112.703761\n",
       "2  2018         20.000924"
      ]
     },
     "execution_count": 24,
     "metadata": {},
     "output_type": "execute_result"
    }
   ],
   "source": [
    "query = '''with a as(select year(orders.order_purchase_timestamp) years ,\n",
    "round(sum(payments.payment_value),2) payment\n",
    "from orders join payments\n",
    "on orders.order_id = payments.order_id\n",
    "group by years order by years)\n",
    "\n",
    "select years , ((payment - lag(payment , 1) over(order by years)) / lag(payment , 1) over(order by years))*100\n",
    " from a;'''\n",
    "cur.execute(query)\n",
    "data = cur.fetchall()\n",
    "df = pd.DataFrame(data,columns = ['year','% prev_year_sale'])\n",
    "df"
   ]
  },
  {
   "cell_type": "code",
   "execution_count": 25,
   "id": "b12ea28a-a68c-4e00-a661-aa9106613740",
   "metadata": {},
   "outputs": [
    {
     "data": {
      "text/plain": [
       "[<matplotlib.lines.Line2D at 0x17976e8f810>]"
      ]
     },
     "execution_count": 25,
     "metadata": {},
     "output_type": "execute_result"
    },
    {
     "data": {
      "image/png": "[encoded data removed]",
      "text/plain": [
       "<Figure size 640x480 with 1 Axes>"
      ]
     },
     "metadata": {},
     "output_type": "display_data"
    }
   ],
   "source": [
    "plt.plot(df['year'] , df['% prev_year_sale'] ,color = 'red' )"
   ]
  },
  {
   "cell_type": "code",
   "execution_count": null,
   "id": "b516cc73-3ed2-49e5-97a1-7372856d184e",
   "metadata": {},
   "outputs": [],
   "source": []
  },
  {
   "cell_type": "code",
   "execution_count": null,
   "id": "2ebe98cc-023f-4cd9-92ef-635561063412",
   "metadata": {},
   "outputs": [],
   "source": []
  },
  {
   "cell_type": "markdown",
   "id": "1fecbbc5-558c-4fe0-8ec1-a2d5443971e1",
   "metadata": {},
   "source": [
    "# 4. Calculate the retention rate of customers, defined as the percentage of customers who make another purchase within 6 months of their first purchase."
   ]
  },
  {
   "cell_type": "code",
   "execution_count": 26,
   "id": "a54cb8c6-4c4f-42d5-98da-e7e546504fd3",
   "metadata": {},
   "outputs": [
    {
     "data": {
      "text/plain": [
       "[(None,)]"
      ]
     },
     "execution_count": 26,
     "metadata": {},
     "output_type": "execute_result"
    }
   ],
   "source": [
    "# Since none of our customer is repeated hence our value is null\n",
    "query = '''with a as(select customers.customer_id , min(orders.order_purchase_timestamp) first_order\n",
    "from customers join orders\n",
    "on customers.customer_id = orders.customer_id\n",
    "group by customers.customer_id),\n",
    "\n",
    "b as(select a.customer_id , count(distinct (orders.order_purchase_timestamp)) next_order\n",
    "from a join orders\n",
    "on orders.customer_id =a.customer_id  \n",
    "and orders.order_purchase_timestamp > first_order\n",
    "and orders.order_purchase_timestamp < date_add(first_order,interval 6 month)\n",
    "group by a.customer_id)\n",
    "\n",
    "select 100*(count(distinct a.customer_id)/count(distinct b.customer_id)) retention\n",
    "from a left join b\n",
    "on a.customer_id = b.customer_id;'''\n",
    "\n",
    "cur.execute(query)\n",
    "data  = cur.fetchall()\n",
    "data"
   ]
  },
  {
   "cell_type": "code",
   "execution_count": null,
   "id": "36b92e7f-54de-4e68-b6d7-45a6b40d6c36",
   "metadata": {},
   "outputs": [],
   "source": []
  },
  {
   "cell_type": "code",
   "execution_count": null,
   "id": "0996b187-e0ca-4893-9b9b-0bada66641a6",
   "metadata": {},
   "outputs": [],
   "source": []
  },
  {
   "cell_type": "markdown",
   "id": "11235628-5fa7-4951-a577-d1b2f4266ee4",
   "metadata": {},
   "source": [
    "# 5. Identify the top 3 customers who spent the most money in each year."
   ]
  },
  {
   "cell_type": "code",
   "execution_count": 30,
   "id": "49c94338-4fb6-443c-a0b1-74e8d9e6e564",
   "metadata": {},
   "outputs": [
    {
     "data": {
      "text/html": [
       "<div>\n",
       "<style scoped>\n",
       "    .dataframe tbody tr th:only-of-type {\n",
       "        vertical-align: middle;\n",
       "    }\n",
       "\n",
       "    .dataframe tbody tr th {\n",
       "        vertical-align: top;\n",
       "    }\n",
       "\n",
       "    .dataframe thead th {\n",
       "        text-align: right;\n",
       "    }\n",
       "</style>\n",
       "<table border=\"1\" class=\"dataframe\">\n",
       "  <thead>\n",
       "    <tr style=\"text-align: right;\">\n",
       "      <th></th>\n",
       "      <th>year</th>\n",
       "      <th>spend</th>\n",
       "      <th>customer_id</th>\n",
       "      <th>rank</th>\n",
       "    </tr>\n",
       "  </thead>\n",
       "  <tbody>\n",
       "    <tr>\n",
       "      <th>0</th>\n",
       "      <td>2016</td>\n",
       "      <td>1423.550049</td>\n",
       "      <td>a9dc96b027d1252bbac0a9b72d837fc6</td>\n",
       "      <td>1</td>\n",
       "    </tr>\n",
       "    <tr>\n",
       "      <th>1</th>\n",
       "      <td>2016</td>\n",
       "      <td>1400.739990</td>\n",
       "      <td>1d34ed25963d5aae4cf3d7f3a4cda173</td>\n",
       "      <td>2</td>\n",
       "    </tr>\n",
       "    <tr>\n",
       "      <th>2</th>\n",
       "      <td>2016</td>\n",
       "      <td>1227.780029</td>\n",
       "      <td>4a06381959b6670756de02e07b83815f</td>\n",
       "      <td>3</td>\n",
       "    </tr>\n",
       "    <tr>\n",
       "      <th>3</th>\n",
       "      <td>2017</td>\n",
       "      <td>13664.080078</td>\n",
       "      <td>1617b1357756262bfa56ab541c47bc16</td>\n",
       "      <td>1</td>\n",
       "    </tr>\n",
       "    <tr>\n",
       "      <th>4</th>\n",
       "      <td>2017</td>\n",
       "      <td>6929.310059</td>\n",
       "      <td>c6e2731c5b391845f6800c97401a43a9</td>\n",
       "      <td>2</td>\n",
       "    </tr>\n",
       "    <tr>\n",
       "      <th>5</th>\n",
       "      <td>2017</td>\n",
       "      <td>6726.660156</td>\n",
       "      <td>3fd6777bbce08a352fddd04e4a7cc8f6</td>\n",
       "      <td>3</td>\n",
       "    </tr>\n",
       "    <tr>\n",
       "      <th>6</th>\n",
       "      <td>2018</td>\n",
       "      <td>7274.879883</td>\n",
       "      <td>ec5b2ba62e574342386871631fafd3fc</td>\n",
       "      <td>1</td>\n",
       "    </tr>\n",
       "    <tr>\n",
       "      <th>7</th>\n",
       "      <td>2018</td>\n",
       "      <td>6922.209961</td>\n",
       "      <td>f48d464a0baaea338cb25f816991ab1f</td>\n",
       "      <td>2</td>\n",
       "    </tr>\n",
       "    <tr>\n",
       "      <th>8</th>\n",
       "      <td>2018</td>\n",
       "      <td>4809.439941</td>\n",
       "      <td>e0a2412720e9ea4f26c1ac985f6a7358</td>\n",
       "      <td>3</td>\n",
       "    </tr>\n",
       "  </tbody>\n",
       "</table>\n",
       "</div>"
      ],
      "text/plain": [
       "   year         spend                       customer_id  rank\n",
       "0  2016   1423.550049  a9dc96b027d1252bbac0a9b72d837fc6     1\n",
       "1  2016   1400.739990  1d34ed25963d5aae4cf3d7f3a4cda173     2\n",
       "2  2016   1227.780029  4a06381959b6670756de02e07b83815f     3\n",
       "3  2017  13664.080078  1617b1357756262bfa56ab541c47bc16     1\n",
       "4  2017   6929.310059  c6e2731c5b391845f6800c97401a43a9     2\n",
       "5  2017   6726.660156  3fd6777bbce08a352fddd04e4a7cc8f6     3\n",
       "6  2018   7274.879883  ec5b2ba62e574342386871631fafd3fc     1\n",
       "7  2018   6922.209961  f48d464a0baaea338cb25f816991ab1f     2\n",
       "8  2018   4809.439941  e0a2412720e9ea4f26c1ac985f6a7358     3"
      ]
     },
     "execution_count": 30,
     "metadata": {},
     "output_type": "execute_result"
    }
   ],
   "source": [
    "query = '''select years , total , customer_id ,d_rank \n",
    "from\n",
    "(select year(orders.order_purchase_timestamp) years , sum(payments.payment_value) total, \n",
    "orders.customer_id,\n",
    "dense_rank() over(partition by year(orders.order_purchase_timestamp)\n",
    "order by sum(payments.payment_value)desc) d_rank\n",
    "from orders join payments\n",
    "on orders.order_id = payments.order_id\n",
    "group by orders.customer_id , years ) as a\n",
    "where d_rank <=3;'''\n",
    "cur.execute(query)\n",
    "data  = cur.fetchall()\n",
    "df = pd.DataFrame(data, columns = ['year','spend','customer_id','rank'])\n",
    "df"
   ]
  },
  {
   "cell_type": "code",
   "execution_count": 34,
   "id": "aae3ed85-fd22-42fb-93ea-d38dc8e3a26d",
   "metadata": {},
   "outputs": [
    {
     "data": {
      "image/png": "[encoded data removed]",
      "text/plain": [
       "<Figure size 640x480 with 1 Axes>"
      ]
     },
     "metadata": {},
     "output_type": "display_data"
    }
   ],
   "source": [
    "sns.barplot(x = 'customer_id' , y = 'spend', data = df,hue = 'year')\n",
    "plt.xticks(rotation = 90)\n",
    "plt.show()"
   ]
  },
  {
   "cell_type": "code",
   "execution_count": null,
   "id": "2650f514-3a25-4b81-88da-4d4b08270e4e",
   "metadata": {},
   "outputs": [],
   "source": []
  }
 ],
 "metadata": {
  "kernelspec": {
   "display_name": "Python 3 (ipykernel)",
   "language": "python",
   "name": "python3"
  },
  "language_info": {
   "codemirror_mode": {
    "name": "ipython",
    "version": 3
   },
   "file_extension": ".py",
   "mimetype": "text/x-python",
   "name": "python",
   "nbconvert_exporter": "python",
   "pygments_lexer": "ipython3",
   "version": "3.11.7"
  },
  "widgets": {
   "application/vnd.jupyter.widget-state+json": {
    "state": {},
    "version_major": 2,
    "version_minor": 0
   }
  }
 },
 "nbformat": 4,
 "nbformat_minor": 5
}
